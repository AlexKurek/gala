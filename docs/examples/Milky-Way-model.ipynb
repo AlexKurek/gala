{
 "cells": [
  {
   "cell_type": "markdown",
   "metadata": {},
   "source": [
    "# Integrate an orbit and compute uncertainties in Milky Way potential model"
   ]
  },
  {
   "cell_type": "markdown",
   "metadata": {},
   "source": [
    "`gala` provides a simple mass model for the Milky Way based on recent measurements of the enclosed mass compiled from the literature. See the [Defining a Milky Way potential model](../potential/define-milky-way-model.html) documentation for more information about how this model was defined.\n",
    "\n",
    "In this example, we'll use the position and velocity and uncertainties of the Milky Way satellite galaxy \"Draco\" to integrate orbits in a Milky Way mass model starting from samples from the error distribution over initial conditions defined by its observed kinematics. We'll then compute distributions of orbital properties like orbital period, pericenter, and eccentricity."
   ]
  },
  {
   "cell_type": "code",
   "execution_count": null,
   "metadata": {
    "collapsed": true
   },
   "outputs": [],
   "source": [
    "# Some imports we'll need later:\n",
    "\n",
    "# Third-party\n",
    "import astropy.units as u\n",
    "import astropy.coordinates as coord\n",
    "from astropy.io import ascii\n",
    "import matplotlib.pyplot as plt\n",
    "import numpy as np\n",
    "\n",
    "# Gala\n",
    "from gala.mpl_style import mpl_style\n",
    "plt.style.use(mpl_style)\n",
    "import gala.dynamics as gd\n",
    "import gala.integrate as gi\n",
    "import gala.potential as gp\n",
    "from gala.units import galactic\n",
    "%matplotlib inline"
   ]
  },
  {
   "cell_type": "markdown",
   "metadata": {},
   "source": [
    "For the sky position and distance of Draco, we'll use measurements from [Bonanos et al. 2004](https://arxiv.org/abs/astro-ph/0310477). For proper motion components, we'll use the recent HSTPROMO measurements ([Sohn et al. 2017](https://arxiv.org/abs/1707.02593)) and the line-of-sight velocity from [Walker et al. 2007](https://arxiv.org/abs/0708.0010)."
   ]
  },
  {
   "cell_type": "code",
   "execution_count": null,
   "metadata": {},
   "outputs": [],
   "source": [
    "icrs = coord.ICRS(ra=coord.Angle('17h 20m 12.4s'), \n",
    "                  dec=coord.Angle('+57\u00b0 54\u2032 55\u2033'),\n",
    "                  distance=76*u.kpc,\n",
    "                  pm_ra_cosdec=0.0569*u.mas/u.yr,\n",
    "                  pm_dec=-0.1673*u.mas/u.yr,\n",
    "                  radial_velocity=-291*u.km/u.s)\n",
    "\n",
    "icrs_err = coord.ICRS(ra=0*u.deg, dec=0*u.deg, distance=6*u.kpc,\n",
    "                      pm_ra_cosdec=0.009*u.mas/u.yr,\n",
    "                      pm_dec=0.009*u.mas/u.yr,\n",
    "                      radial_velocity=0.1*u.km/u.s)"
   ]
  },
  {
   "cell_type": "markdown",
   "metadata": {},
   "source": [
    "Let's start by transforming the measured values to a Galactocentric reference frame so we can integrate an orbit in our Milky Way model:"
   ]
  },
  {
   "cell_type": "code",
   "execution_count": null,
   "metadata": {},
   "outputs": [],
   "source": [
    "gc_frame = coord.Galactocentric(galcen_distance=8.3*u.kpc,\n",
    "                                z_sun=0*u.pc,\n",
    "                                galcen_v_sun=coord.CartesianDifferential([11.1, 250, 7.25]*u.km/u.s))\n",
    "\n",
    "gc = icrs.transform_to(gc_frame)"
   ]
  },
  {
   "cell_type": "code",
   "execution_count": null,
   "metadata": {},
   "outputs": [],
   "source": [
    "w0 = gd.PhaseSpacePosition(gc.data)"
   ]
  },
  {
   "cell_type": "code",
   "execution_count": null,
   "metadata": {
    "collapsed": true
   },
   "outputs": [],
   "source": [
    "potential = gp.MilkyWayPotential()"
   ]
  },
  {
   "cell_type": "code",
   "execution_count": null,
   "metadata": {
    "collapsed": true
   },
   "outputs": [],
   "source": [
    "orbit = potential.integrate_orbit(w0, dt=-0.5, n_steps=8000)"
   ]
  },
  {
   "cell_type": "code",
   "execution_count": null,
   "metadata": {},
   "outputs": [],
   "source": [
    "_ = orbit.plot()"
   ]
  },
  {
   "cell_type": "code",
   "execution_count": null,
   "metadata": {
    "collapsed": true
   },
   "outputs": [],
   "source": []
  }
 ],
 "metadata": {
  "anaconda-cloud": {},
  "kernelspec": {
   "display_name": "Python [conda env:gala-dev]",
   "language": "python",
   "name": "conda-env-gala-dev-py"
  },
  "language_info": {
   "codemirror_mode": {
    "name": "ipython",
    "version": 3
   },
   "file_extension": ".py",
   "mimetype": "text/x-python",
   "name": "python",
   "nbconvert_exporter": "python",
   "pygments_lexer": "ipython3",
   "version": "3.5.2"
  }
 },
 "nbformat": 4,
 "nbformat_minor": 2
}