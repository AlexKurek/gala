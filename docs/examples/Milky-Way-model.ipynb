{
 "cells": [
  {
   "cell_type": "markdown",
   "metadata": {},
   "source": [
    "## Milky Way"
   ]
  },
  {
   "cell_type": "code",
   "execution_count": null,
   "metadata": {},
   "outputs": [],
   "source": [
    "# Third-party\n",
    "from astropy.constants import G\n",
    "import astropy.units as u\n",
    "import matplotlib.pyplot as plt\n",
    "import numpy as np\n",
    "%matplotlib inline\n",
    "from scipy.optimize import leastsq\n",
    "\n",
    "# Custom\n",
    "import gala.dynamics as gd\n",
    "import gala.integrate as gi\n",
    "import gala.potential as gp\n",
    "from gala.units import galactic"
   ]
  },
  {
   "cell_type": "code",
   "execution_count": null,
   "metadata": {
    "collapsed": true
   },
   "outputs": [],
   "source": [
    "# load tables of mass enclosed / circular velocity measurements\n",
    "gnedin_tbl = np.genfromtxt(\"data/gnedin_mwmass_tbl.txt\",\n",
    "                           delimiter=',', names=True, dtype=None)\n",
    "kuepper_tbl = np.genfromtxt(\"data/kuepper15_mwmass_tbl.txt\",\n",
    "                            delimiter=',', names=True, dtype=None)"
   ]
  },
  {
   "cell_type": "code",
   "execution_count": null,
   "metadata": {},
   "outputs": [],
   "source": [
    "Menc1 = gnedin_tbl['Menc']\n",
    "Menc_l = gnedin_tbl['neg_err']\n",
    "Menc_u = gnedin_tbl['pos_err']\n",
    "Menc_err1 = np.max([Menc_u, Menc_l], axis=0) # HACK: take maximum uncertainty\n",
    "\n",
    "# Andreas compiled circular velocity measurements so need to turn into mass\n",
    "kuepper_tbl = kuepper_tbl[kuepper_tbl['source'].astype(str) != 'Gibbons et al. (2014)']\n",
    "Menc2 = (kuepper_tbl['radius']*u.kpc * (kuepper_tbl['v_c']*u.km/u.s)**2 / G).to(u.Msun).value\n",
    "Menc_l = Menc2 - (kuepper_tbl['radius']*u.kpc * ((kuepper_tbl['v_c']-kuepper_tbl['neg_err'])*u.km/u.s)**2 / G).to(u.Msun).value\n",
    "Menc_u = (kuepper_tbl['radius']*u.kpc * ((kuepper_tbl['v_c']+kuepper_tbl['pos_err'])*u.km/u.s)**2 / G).to(u.Msun).value - Menc2\n",
    "Menc_err2 = np.max([Menc_u, Menc_l], axis=0) # HACK: take maximum uncertainty"
   ]
  },
  {
   "cell_type": "code",
   "execution_count": null,
   "metadata": {
    "collapsed": true
   },
   "outputs": [],
   "source": [
    "# compile all mass measurements\n",
    "r = np.concatenate((gnedin_tbl['radius'], kuepper_tbl['radius']))\n",
    "Menc = np.concatenate((Menc1, Menc2))\n",
    "Menc_err = np.concatenate((Menc_err1, Menc_err2))"
   ]
  },
  {
   "cell_type": "code",
   "execution_count": null,
   "metadata": {},
   "outputs": [],
   "source": [
    "# sort by radius and remove measurements at very small radii\n",
    "idx = r.argsort()\n",
    "obs_Menc = Menc[idx][2:]\n",
    "obs_Menc_err = Menc_err[idx][2:]\n",
    "obs_r = r[idx][2:]"
   ]
  },
  {
   "cell_type": "code",
   "execution_count": null,
   "metadata": {
    "collapsed": true
   },
   "outputs": [],
   "source": [
    "def get_potential(log_M_h, log_r_s, log_M_n, log_a):\n",
    "    mw_potential = gp.CCompositePotential()\n",
    "    mw_potential['bulge'] = gp.HernquistPotential(m=5E9, c=1., units=galactic)\n",
    "    mw_potential['disk'] = gp.MiyamotoNagaiPotential(m=6.8E10*u.Msun, a=3*u.kpc, b=280*u.pc,\n",
    "                                                     units=galactic)\n",
    "    mw_potential['nucl'] = gp.HernquistPotential(m=np.exp(log_M_n), c=np.exp(log_a)*u.pc,\n",
    "                                                 units=galactic)\n",
    "    mw_potential['halo'] = gp.NFWPotential(m=np.exp(log_M_h), r_s=np.exp(log_r_s), units=galactic)\n",
    "\n",
    "    return mw_potential"
   ]
  },
  {
   "cell_type": "code",
   "execution_count": null,
   "metadata": {
    "collapsed": true
   },
   "outputs": [],
   "source": [
    "# Initial guess for the parameters:\n",
    "x0 = [np.log(6E11), np.log(20.), np.log(2E9), np.log(100.)] # a is in pc\n",
    "init_pot = get_potential(*x0)\n",
    "\n",
    "xyz = np.zeros((3, obs_r.size))\n",
    "xyz[0] = obs_r"
   ]
  },
  {
   "cell_type": "code",
   "execution_count": null,
   "metadata": {
    "collapsed": true
   },
   "outputs": [],
   "source": [
    "def f(p):\n",
    "    pot = get_potential(*p)\n",
    "    model_menc = pot.mass_enclosed(xyz).to(u.Msun).value\n",
    "    return (model_menc - obs_Menc) / obs_Menc_err"
   ]
  },
  {
   "cell_type": "code",
   "execution_count": null,
   "metadata": {
    "collapsed": true
   },
   "outputs": [],
   "source": [
    "p_opt, ier = leastsq(f, x0=x0)\n",
    "assert ier in range(1,4+1)\n",
    "fit_potential = get_potential(*p_opt)"
   ]
  },
  {
   "cell_type": "code",
   "execution_count": null,
   "metadata": {},
   "outputs": [],
   "source": [
    "fig = fit_potential.plot_contours(grid=(np.linspace(0,20,128), 0, np.linspace(-5,5,64)))\n",
    "fig.axes[0].set_aspect('equal')"
   ]
  },
  {
   "cell_type": "code",
   "execution_count": null,
   "metadata": {},
   "outputs": [],
   "source": [
    "fit_potential.density([20,0,0.])"
   ]
  },
  {
   "cell_type": "code",
   "execution_count": null,
   "metadata": {},
   "outputs": [],
   "source": [
    "fig = fit_potential.plot_density_contours(grid=(np.linspace(0,20,128), 0, np.linspace(-5,5,64)), filled=False,\n",
    "                                          levels=np.logspace(5, 10., 24), colors='k', cmap=None)\n",
    "fig.axes[0].set_aspect('equal')"
   ]
  },
  {
   "cell_type": "code",
   "execution_count": null,
   "metadata": {
    "collapsed": true
   },
   "outputs": [],
   "source": [
    "# plot initial guess, fit profile:\n",
    "r = np.logspace(-3.5, 2.6, 1024)\n",
    "xyz = np.zeros((3,r.size))\n",
    "xyz[0] = r\n",
    "fit_menc = fit_potential.mass_enclosed(xyz*u.kpc)"
   ]
  },
  {
   "cell_type": "code",
   "execution_count": null,
   "metadata": {},
   "outputs": [],
   "source": [
    "fig, ax = plt.subplots(1, 1, figsize=(6,6))\n",
    "\n",
    "ax.errorbar(obs_r, obs_Menc, yerr=obs_Menc_err, marker='o', markersize=4,\n",
    "            color='k', alpha=1., ecolor='#aaaaaa', capthick=0,\n",
    "            linestyle='none', elinewidth=1.)\n",
    "\n",
    "ax.loglog(r, fit_menc.value, marker='', color=\"#3182bd\",\n",
    "          linewidth=2, alpha=0.7)\n",
    "\n",
    "ax.set_xlim(1E-3, 10**2.6)\n",
    "ax.set_ylim(7E6, 10**12.25)\n",
    "\n",
    "ax.set_xlabel('$r$ [kpc]')\n",
    "ax.set_ylabel('$M(<r)$ [M$_\\odot$]')\n",
    "\n",
    "ax.set_xscale('log')\n",
    "ax.set_yscale('log')\n",
    "\n",
    "fig.tight_layout()"
   ]
  },
  {
   "cell_type": "code",
   "execution_count": null,
   "metadata": {
    "collapsed": true
   },
   "outputs": [],
   "source": []
  },
  {
   "cell_type": "code",
   "execution_count": null,
   "metadata": {
    "collapsed": true
   },
   "outputs": [],
   "source": []
  }
 ],
 "metadata": {
  "anaconda-cloud": {},
  "kernelspec": {
   "display_name": "Python [conda env:gala-dev]",
   "language": "python",
   "name": "conda-env-gala-dev-py"
  },
  "language_info": {
   "codemirror_mode": {
    "name": "ipython",
    "version": 3
   },
   "file_extension": ".py",
   "mimetype": "text/x-python",
   "name": "python",
   "nbconvert_exporter": "python",
   "pygments_lexer": "ipython3",
   "version": "3.5.2"
  }
 },
 "nbformat": 4,
 "nbformat_minor": 2
}